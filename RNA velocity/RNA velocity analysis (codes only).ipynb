{
 "cells": [
  {
   "cell_type": "code",
   "execution_count": null,
   "id": "1b4679e5",
   "metadata": {},
   "outputs": [],
   "source": [
    "import scvelo as scv\n",
    "import scanpy as sc\n",
    "palette = {'cDC1':'#C5E524','cDC2':'#38C2E5','DC2pre-hm':'#384C94', 'DC2hm':'#E679C5'}"
   ]
  },
  {
   "cell_type": "markdown",
   "id": "7dbde028",
   "metadata": {},
   "source": [
    "# Donor 6 all cDCs"
   ]
  },
  {
   "cell_type": "markdown",
   "id": "145583b4",
   "metadata": {},
   "source": [
    "Read h5ad files"
   ]
  },
  {
   "cell_type": "code",
   "execution_count": null,
   "id": "8a0658f6",
   "metadata": {},
   "outputs": [],
   "source": [
    "d6_adata = sc.read_h5ad('Outputs/h5ad/d6.object.cdcs.h5ad')"
   ]
  },
  {
   "cell_type": "markdown",
   "id": "127fa76e",
   "metadata": {},
   "source": [
    "Recover clustering info that was lost during the conversion"
   ]
  },
  {
   "cell_type": "code",
   "execution_count": null,
   "id": "f67acb1e",
   "metadata": {},
   "outputs": [],
   "source": [
    "# Convert the cell identities from numeric into category\n",
    "d6_adata.obs['celltype_hh_1'] = d6_adata.obs['celltype_hh_1'].astype('category')\n",
    "sc.pl.umap(d6_adata, color='celltype_hh_1', legend_loc='on data')\n",
    "# Rename numeric category into names\n",
    "d6_adata.obs['celltype_hh_1'].cat.rename_categories({0:'cDC1',1:'cDC2',2:'DC2pre-hm',3:'DC2hm'},\n",
    "                                                                                    inplace=True)"
   ]
  },
  {
   "cell_type": "code",
   "execution_count": null,
   "id": "e0d3551a",
   "metadata": {},
   "outputs": [],
   "source": [
    "# Check the results\n",
    "sc.pl.umap(d6_adata, color='celltype_hh_1', legend_loc='on data')"
   ]
  },
  {
   "cell_type": "markdown",
   "id": "d82d2141",
   "metadata": {},
   "source": [
    "Computing and embedding velocities of all cDCs"
   ]
  },
  {
   "cell_type": "code",
   "execution_count": null,
   "id": "ba925b1e",
   "metadata": {},
   "outputs": [],
   "source": [
    "# Read velocyto outputs and integrate into adata\n",
    "d6_ldata = scv.read_loom('Velocyto_outputs/Dnr6.loom')\n",
    "d6_adata = scv.utils.merge(d6_adata, d6_ldata)"
   ]
  },
  {
   "cell_type": "code",
   "execution_count": null,
   "id": "55f297cb",
   "metadata": {},
   "outputs": [],
   "source": [
    "scv.pp.filter_and_normalize(d6_adata, min_shared_counts=20, n_top_genes=2000)\n",
    "scv.pp.moments(d6_adata,n_pcs=30, n_neighbors=30)\n",
    "scv.tl.recover_dynamics(d6_adata,n_jobs=10)\n",
    "scv.tl.velocity(d6_adata,mode='dynamical')\n",
    "scv.tl.velocity_graph(d6_adata, n_jobs=10)\n",
    "# Figure S2J\n",
    "scv.pl.velocity_embedding_stream(d6_adata, basis='umap', save='Outputs/figures/Dnr6_velocity_stream.svg',\n",
    "                                 dpi=300, color='celltype_hh_1',palette=palette,\n",
    "                                 title='Donor 6',size=60,alpha=1)"
   ]
  },
  {
   "cell_type": "markdown",
   "id": "a3343044",
   "metadata": {},
   "source": [
    "# Donor 6 all cDC2s"
   ]
  },
  {
   "cell_type": "markdown",
   "id": "53d3480f",
   "metadata": {},
   "source": [
    "Read h5ad files"
   ]
  },
  {
   "cell_type": "code",
   "execution_count": null,
   "id": "f6df0448",
   "metadata": {},
   "outputs": [],
   "source": [
    "d6_cdc2s_adata = sc.read_h5ad('Outputs/h5ad/d6.object.cdc2s.h5ad')"
   ]
  },
  {
   "cell_type": "markdown",
   "id": "7064b478",
   "metadata": {},
   "source": [
    "Recover clustering info that was lost during the conversion"
   ]
  },
  {
   "cell_type": "code",
   "execution_count": null,
   "id": "76ef7b05",
   "metadata": {},
   "outputs": [],
   "source": [
    "# Convert the cell identities from numeric into category\n",
    "d6_cdc2s_adata.obs['celltype_hh_1'] = d6_cdc2s_adata.obs['celltype_hh_1'].astype('category')\n",
    "sc.pl.umap(d6_cdc2s_adata, color='celltype_hh_1', legend_loc='on data')\n",
    "# Rename numeric category into names\n",
    "d6_cdc2s_adata.obs['celltype_hh_1'].cat.rename_categories({0:'cDC2',1:'DC2pre-hm',2:'DC2hm'},\n",
    "inplace=True)"
   ]
  },
  {
   "cell_type": "code",
   "execution_count": null,
   "id": "06657921",
   "metadata": {},
   "outputs": [],
   "source": [
    "# Check the results\n",
    "sc.pl.umap(d6_cdc2s_adata, color='celltype_hh_1', legend_loc='on data')"
   ]
  },
  {
   "cell_type": "markdown",
   "id": "9ecd7ab0",
   "metadata": {},
   "source": [
    "Computing and embedding velocities of all cDCs"
   ]
  },
  {
   "cell_type": "code",
   "execution_count": null,
   "id": "4e21f352",
   "metadata": {},
   "outputs": [],
   "source": [
    "d6_cdc2s_adata = scv.utils.merge(d6_cdc2s_adata, d6_ldata)\n",
    "scv.pp.filter_and_normalize(d6_cdc2s_adata, min_shared_counts=10, n_top_genes=2000,\n",
    "                            enforce=True)\n",
    "scv.pp.moments(d6_cdc2s_adata,n_pcs=30, n_neighbors=30)\n",
    "scv.tl.recover_dynamics(d6_cdc2s_adata,n_jobs=10)\n",
    "scv.tl.velocity(d6_cdc2s_adata,mode='dynamical')\n",
    "scv.tl.velocity_graph(d6_cdc2s_adata, n_jobs=10)\n",
    "# Figure 1H\n",
    "scv.pl.velocity_embedding_stream(d6_cdc2s_adata, basis='umap',\n",
    "                                 save='Outputs/figures/Dnr6_velocity_cDC2s_stream.svg',\n",
    "                                 dpi=300, color='celltype_hh_1',palette=palette,\n",
    "                                 title='Donor 6',size=60, alpha=1)"
   ]
  },
  {
   "cell_type": "markdown",
   "id": "9d605cfb",
   "metadata": {},
   "source": [
    "# Donor 10 all cDCs"
   ]
  },
  {
   "cell_type": "markdown",
   "id": "66360adc",
   "metadata": {},
   "source": [
    "Read h5ad files"
   ]
  },
  {
   "cell_type": "code",
   "execution_count": null,
   "id": "5f024a33",
   "metadata": {},
   "outputs": [],
   "source": [
    "d10_adata = sc.read_h5ad('Outputs/h5ad/d10.object.cdcs.h5ad')"
   ]
  },
  {
   "cell_type": "markdown",
   "id": "5a12a046",
   "metadata": {},
   "source": [
    "Recover clustering info that was lost during the conversion"
   ]
  },
  {
   "cell_type": "code",
   "execution_count": null,
   "id": "8eaf5888",
   "metadata": {},
   "outputs": [],
   "source": [
    "# Convert the cell identities from numeric into category\n",
    "d10_adata.obs['celltype_hh_1'] = d10_adata.obs['celltype_hh_1'].astype('category')\n",
    "sc.pl.umap(d10_adata, color='celltype_hh_1', legend_loc='on data')\n",
    "# Rename numeric category into names\n",
    "d10_adata.obs['celltype_hh_1'].cat.rename_categories({2:'cDC1',0:'cDC2',1:'DC2pre-hm',3:'DC2hm'},\n",
    "                                                                                    inplace=True)"
   ]
  },
  {
   "cell_type": "code",
   "execution_count": null,
   "id": "76df7132",
   "metadata": {},
   "outputs": [],
   "source": [
    "# Check the results\n",
    "sc.pl.umap(d10_adata, color='celltype_hh_1', legend_loc='on data')"
   ]
  },
  {
   "cell_type": "markdown",
   "id": "cf381bc7",
   "metadata": {},
   "source": [
    "Computing and embedding velocities of all cDCs"
   ]
  },
  {
   "cell_type": "code",
   "execution_count": null,
   "id": "a9f90744",
   "metadata": {},
   "outputs": [],
   "source": [
    "# Read velocyto outputs and integrate into adata\n",
    "d10_ldata = scv.read_loom('Velocyto_outputs/Dnr10.loom')\n",
    "d10_adata = scv.utils.merge(d10_adata, d10_ldata)"
   ]
  },
  {
   "cell_type": "code",
   "execution_count": null,
   "id": "b8bad3cf",
   "metadata": {},
   "outputs": [],
   "source": [
    "scv.pp.filter_and_normalize(d10_adata, min_shared_counts=20, n_top_genes=2000)\n",
    "scv.pp.moments(d10_adata,n_pcs=30, n_neighbors=30)\n",
    "scv.tl.recover_dynamics(d10_adata,n_jobs=10)\n",
    "scv.tl.velocity(d10_adata,mode='stochastic')\n",
    "scv.tl.velocity_graph(d10_adata, n_jobs=10)\n",
    "# Figure S2J\n",
    "scv.pl.velocity_embedding_stream(d10_adata, basis='umap', save='Outputs/figures/Dnr10_velocity_stream.svg',\n",
    "                                 dpi=300, color='celltype_hh_1',palette=palette,\n",
    "                                 title='Donor 10',size=60,alpha=1)"
   ]
  },
  {
   "cell_type": "markdown",
   "id": "d77299b4",
   "metadata": {},
   "source": [
    "# Donor 12 all cDCs"
   ]
  },
  {
   "cell_type": "markdown",
   "id": "47e6b7f1",
   "metadata": {},
   "source": [
    "Read h5ad files"
   ]
  },
  {
   "cell_type": "code",
   "execution_count": null,
   "id": "945663b6",
   "metadata": {},
   "outputs": [],
   "source": [
    "d12_adata = sc.read_h5ad('Outputs/h5ad/d12.object.cdcs.h5ad')"
   ]
  },
  {
   "cell_type": "markdown",
   "id": "a4c5dcb1",
   "metadata": {},
   "source": [
    "Recover clustering info that was lost during the conversion"
   ]
  },
  {
   "cell_type": "code",
   "execution_count": null,
   "id": "5b197b67",
   "metadata": {},
   "outputs": [],
   "source": [
    "# Convert the cell identities from numeric into category\n",
    "d12_adata.obs['celltype_hh_1'] = d12_adata.obs['celltype_hh_1'].astype('category')\n",
    "sc.pl.umap(d12_adata, color='celltype_hh_1', legend_loc='on data')\n",
    "# Rename numeric category into names\n",
    "d12_adata.obs['celltype_hh_1'].cat.rename_categories({1:'cDC1',0:'cDC2',2:'DC2pre-hm',4:'DC2hm'},\n",
    "                                                                                    inplace=True)"
   ]
  },
  {
   "cell_type": "code",
   "execution_count": null,
   "id": "e902df0c",
   "metadata": {},
   "outputs": [],
   "source": [
    "# Check the results\n",
    "sc.pl.umap(d12_adata, color='celltype_hh_1', legend_loc='on data')"
   ]
  },
  {
   "cell_type": "markdown",
   "id": "5aee99d3",
   "metadata": {},
   "source": [
    "Computing and embedding velocities of all cDCs"
   ]
  },
  {
   "cell_type": "code",
   "execution_count": null,
   "id": "d3a4cc24",
   "metadata": {},
   "outputs": [],
   "source": [
    "# Read velocyto outputs and integrate into adata\n",
    "d12_ldata = scv.read_loom('Velocyto_outputs/Dnr12.loom')\n",
    "d12_adata = scv.utils.merge(d12_adata, d12_ldata)"
   ]
  },
  {
   "cell_type": "code",
   "execution_count": null,
   "id": "84daa5e9",
   "metadata": {},
   "outputs": [],
   "source": [
    "scv.pp.filter_and_normalize(d12_adata, min_shared_counts=20, n_top_genes=2000)\n",
    "scv.pp.moments(d12_adata,n_pcs=30, n_neighbors=30)\n",
    "scv.tl.recover_dynamics(d10_adata,n_jobs=10)\n",
    "scv.tl.velocity(d12_adata,mode='stochastic')\n",
    "scv.tl.velocity_graph(d12_adata, n_jobs=10,approx=True)\n",
    "# Figure S2J\n",
    "scv.pl.velocity_embedding_stream(d12_adata, basis='umap', save='Outputs/figures/Dnr12_velocity_stream.svg',\n",
    "                                 dpi=300, color='celltype_hh_1',palette=palette,\n",
    "                                 title='Donor 12',size=60,alpha=1)"
   ]
  },
  {
   "cell_type": "markdown",
   "id": "2b365084",
   "metadata": {},
   "source": [
    "# Save objects with velocities into h5ad files"
   ]
  },
  {
   "cell_type": "code",
   "execution_count": null,
   "id": "2f34c267",
   "metadata": {},
   "outputs": [],
   "source": [
    "d6_adata.write_h5ad('Outputs/h5ad/d6.object.cdcs.velocities.h5ad')\n",
    "d6_cdc2s_adata.write_h5ad('Outputs/h5ad/d6.object.cdc2s.velocities.h5ad')\n",
    "d10_adata.write_h5ad('Outputs/h5ad/d10.object.cdcs.velocities.h5ad')\n",
    "d12_adata.write_h5ad('Outputs/h5ad/d12.object.cdcs.velocities.h5ad')"
   ]
  }
 ],
 "metadata": {
  "celltoolbar": "Raw Cell Format",
  "kernelspec": {
   "display_name": "Python (scvelo)",
   "language": "python",
   "name": "scvelo"
  },
  "language_info": {
   "codemirror_mode": {
    "name": "ipython",
    "version": 3
   },
   "file_extension": ".py",
   "mimetype": "text/x-python",
   "name": "python",
   "nbconvert_exporter": "python",
   "pygments_lexer": "ipython3",
   "version": "3.8.13"
  }
 },
 "nbformat": 4,
 "nbformat_minor": 5
}
